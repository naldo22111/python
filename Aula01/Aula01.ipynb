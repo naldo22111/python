{
 "cells": [
  {
   "cell_type": "markdown",
   "id": "4664ae24-f50a-4e78-91e4-91484c259d35",
   "metadata": {},
   "source": [
    "### Projeto Calc Subnet Class C"
   ]
  },
  {
   "cell_type": "code",
   "execution_count": 46,
   "id": "25677b63",
   "metadata": {},
   "outputs": [],
   "source": [
    "ipv4_string = input(\"Informe o prefixo IPv4:\")"
   ]
  },
  {
   "cell_type": "code",
   "execution_count": 57,
   "id": "8f27b95e",
   "metadata": {},
   "outputs": [
    {
     "data": {
      "text/plain": [
       "['192.168.56.25', '28']"
      ]
     },
     "execution_count": 57,
     "metadata": {},
     "output_type": "execute_result"
    }
   ],
   "source": [
    "lista = [\"tomy\",\"naldo\",\"jose\",\"joao\"]\n",
    "lista[1:2]\n",
    "ipv4_list = ipv4_string.split(\"/\")\n",
    "ipv4_list"
   ]
  },
  {
   "cell_type": "code",
   "execution_count": 66,
   "id": "f087ef78",
   "metadata": {},
   "outputs": [
    {
     "data": {
      "text/plain": [
       "16"
      ]
     },
     "execution_count": 66,
     "metadata": {},
     "output_type": "execute_result"
    }
   ],
   "source": [
    "2**4"
   ]
  },
  {
   "cell_type": "code",
   "execution_count": 67,
   "id": "8fb9928e",
   "metadata": {},
   "outputs": [
    {
     "data": {
      "text/plain": [
       "240"
      ]
     },
     "execution_count": 67,
     "metadata": {},
     "output_type": "execute_result"
    }
   ],
   "source": [
    "ipv4_address = ipv4_list[0]\n",
    "prefix = ipv4_list[1]\n",
    "\n",
    "# Netmask\n",
    "subnet_bits = 32 - int(prefix)\n",
    "mask = 256 - (2**subnet_bits) "
   ]
  },
  {
   "cell_type": "code",
   "execution_count": 2,
   "id": "31a4b65a-d4a3-47de-8827-76555c3007a0",
   "metadata": {},
   "outputs": [
    {
     "name": "stdout",
     "output_type": "stream",
     "text": [
      "192.168.44.45\n",
      "128\n"
     ]
    }
   ],
   "source": [
    "ipv4_string = input(\"Informe o prefixo IPv4:\")\n",
    "ipv4_list = ipv4_string.split(\"/\")\n",
    "ipv4_address = ipv4_list[0]\n",
    "prefix = ipv4_list[1]\n",
    "\n",
    "print(ipv4_address)\n",
    "# NetMask\n",
    "subnet_bits = 32 - int(prefix)\n",
    "mask = 256 - (2**subnet_bits) \n",
    "print(mask)"
   ]
  },
  {
   "cell_type": "code",
   "execution_count": 70,
   "id": "0119a530",
   "metadata": {},
   "outputs": [
    {
     "data": {
      "text/plain": [
       "16"
      ]
     },
     "execution_count": 70,
     "metadata": {},
     "output_type": "execute_result"
    }
   ],
   "source": [
    "# Separar os octetos\n",
    "octects_list = ipv4_address.split(\".\")\n",
    "octect_host = int(octects_list[3])\n",
    "net_address = octect_host & mask\n",
    "net_address"
   ]
  },
  {
   "cell_type": "code",
   "execution_count": 74,
   "id": "e0002f38-3ee1-49ee-8966-79bf785a62e5",
   "metadata": {},
   "outputs": [
    {
     "name": "stdout",
     "output_type": "stream",
     "text": [
      "O endereço de Rede do IP 192.168.56.25/28 é: 192.168.56.16\n"
     ]
    }
   ],
   "source": [
    "# Separar os octetos\n",
    "octects_list = ipv4_address.split(\".\")\n",
    "octect_host = int(octects_list[3])\n",
    "octect_host\n",
    "net_address = octect_host & mask\n",
    "fixed_portion = f\"{'.'.join(octects_list[0:3])}.\"\n",
    "\n",
    "print(f\"O endereço de Rede do IP {ipv4_string} é: {fixed_portion}{net_address}\") "
   ]
  },
  {
   "cell_type": "code",
   "execution_count": 76,
   "id": "29efa103-6ae3-4866-9465-1c3fb661a2a9",
   "metadata": {},
   "outputs": [
    {
     "name": "stdout",
     "output_type": "stream",
     "text": [
      "O endereço de Broadcast do IP 192.168.56.25/28 é: 192.168.56.31\n"
     ]
    }
   ],
   "source": [
    "# Broadcast Address\n",
    "broadcast = net_address + (2**subnet_bits)-1\n",
    "print(f\"O endereço de Broadcast do IP {ipv4_string} é: {fixed_portion}{broadcast}\")"
   ]
  },
  {
   "cell_type": "code",
   "execution_count": null,
   "id": "0b81e73a-8584-47ba-8f3a-5f2c2e0bdf85",
   "metadata": {},
   "outputs": [],
   "source": []
  },
  {
   "cell_type": "code",
   "execution_count": 5,
   "id": "87ea275a-eddf-4da6-860d-42788bc78f4e",
   "metadata": {},
   "outputs": [
    {
     "name": "stdout",
     "output_type": "stream",
     "text": [
      "O endereço de rede é: 192.168.44.0\n"
     ]
    }
   ],
   "source": [
    "print(f\"O endereço de rede é: {'.'.join(octetos[0:3])}.{net_address}\")"
   ]
  },
  {
   "cell_type": "code",
   "execution_count": 6,
   "id": "255ed48d-2f03-4f75-944f-3c26b028edfd",
   "metadata": {},
   "outputs": [
    {
     "name": "stdout",
     "output_type": "stream",
     "text": [
      "O endereço de broadcast é: 192.168.44.127\n"
     ]
    }
   ],
   "source": [
    "print(f\"O endereço de broadcast é: {'.'.join(octetos[0:3])}.{broadcast}\")"
   ]
  },
  {
   "cell_type": "code",
   "execution_count": 80,
   "id": "480f1dfe-d4d3-4548-8e0c-1d981b011913",
   "metadata": {},
   "outputs": [
    {
     "name": "stdout",
     "output_type": "stream",
     "text": [
      "PING 192.168.56.17 (192.168.56.17) 56(84) bytes of data.\n",
      "From 100.64.80.26 icmp_seq=1 Time to live exceeded\n",
      "From 100.64.80.26 icmp_seq=2 Time to live exceeded\n",
      "\n",
      "--- 192.168.56.17 ping statistics ---\n",
      "2 packets transmitted, 0 received, +2 errors, 100% packet loss, time 1001ms\n",
      "\n",
      "PING 192.168.56.18 (192.168.56.18) 56(84) bytes of data.\n",
      "From 100.64.80.26 icmp_seq=1 Time to live exceeded\n",
      "From 100.64.80.26 icmp_seq=2 Time to live exceeded\n",
      "\n",
      "--- 192.168.56.18 ping statistics ---\n",
      "2 packets transmitted, 0 received, +2 errors, 100% packet loss, time 1002ms\n",
      "\n",
      "PING 192.168.56.19 (192.168.56.19) 56(84) bytes of data.\n",
      "From 100.64.80.26 icmp_seq=1 Time to live exceeded\n",
      "From 100.64.80.26 icmp_seq=2 Time to live exceeded\n",
      "\n",
      "--- 192.168.56.19 ping statistics ---\n",
      "2 packets transmitted, 0 received, +2 errors, 100% packet loss, time 1002ms\n",
      "\n"
     ]
    },
    {
     "data": {
      "text/plain": [
       "256"
      ]
     },
     "execution_count": 80,
     "metadata": {},
     "output_type": "execute_result"
    }
   ],
   "source": [
    "import os\n",
    "os.system(f\"ping -c 2 {fixed_portion}{net_address+1}\")\n",
    "os.system(f\"ping -c 2 {fixed_portion}{net_address+2}\")\n",
    "os.system(f\"ping -c 2 {fixed_portion}{net_address+3}\")"
   ]
  },
  {
   "cell_type": "markdown",
   "id": "e3f6ccab",
   "metadata": {},
   "source": [
    "#### Executando o mesmo código mais de uma vez"
   ]
  },
  {
   "cell_type": "code",
   "execution_count": 87,
   "id": "b9407c87",
   "metadata": {},
   "outputs": [
    {
     "name": "stdout",
     "output_type": "stream",
     "text": [
      "1\n",
      "2\n",
      "3\n",
      "4\n",
      "5\n"
     ]
    }
   ],
   "source": [
    "for i in range(1,6):\n",
    "    print(i)"
   ]
  },
  {
   "cell_type": "code",
   "execution_count": 89,
   "id": "e4ab74e6-7769-4d73-91ce-8caaf3815f30",
   "metadata": {},
   "outputs": [
    {
     "name": "stdout",
     "output_type": "stream",
     "text": [
      "PING 192.168.56.17 (192.168.56.17) 56(84) bytes of data.\n",
      "From 100.64.80.26 icmp_seq=1 Time to live exceeded\n",
      "From 100.64.80.26 icmp_seq=2 Time to live exceeded\n",
      "\n",
      "--- 192.168.56.17 ping statistics ---\n",
      "2 packets transmitted, 0 received, +2 errors, 100% packet loss, time 1002ms\n",
      "\n",
      "PING 192.168.56.18 (192.168.56.18) 56(84) bytes of data.\n",
      "From 100.64.80.26 icmp_seq=1 Time to live exceeded\n",
      "From 100.64.80.26 icmp_seq=2 Time to live exceeded\n",
      "\n",
      "--- 192.168.56.18 ping statistics ---\n",
      "2 packets transmitted, 0 received, +2 errors, 100% packet loss, time 1002ms\n",
      "\n",
      "PING 192.168.56.19 (192.168.56.19) 56(84) bytes of data.\n",
      "From 100.64.80.26 icmp_seq=1 Time to live exceeded\n",
      "From 100.64.80.26 icmp_seq=2 Time to live exceeded\n",
      "\n",
      "--- 192.168.56.19 ping statistics ---\n",
      "2 packets transmitted, 0 received, +2 errors, 100% packet loss, time 1002ms\n",
      "\n",
      "PING 192.168.56.20 (192.168.56.20) 56(84) bytes of data.\n",
      "From 100.64.80.26 icmp_seq=1 Time to live exceeded\n",
      "From 100.64.80.26 icmp_seq=2 Time to live exceeded\n",
      "\n",
      "--- 192.168.56.20 ping statistics ---\n",
      "2 packets transmitted, 0 received, +2 errors, 100% packet loss, time 1001ms\n",
      "\n",
      "PING 192.168.56.21 (192.168.56.21) 56(84) bytes of data.\n",
      "From 100.64.80.26 icmp_seq=1 Time to live exceeded\n",
      "From 100.64.80.26 icmp_seq=2 Time to live exceeded\n",
      "\n",
      "--- 192.168.56.21 ping statistics ---\n",
      "2 packets transmitted, 0 received, +2 errors, 100% packet loss, time 1001ms\n",
      "\n",
      "PING 192.168.56.22 (192.168.56.22) 56(84) bytes of data.\n",
      "From 100.64.80.26 icmp_seq=1 Time to live exceeded\n",
      "From 100.64.80.26 icmp_seq=2 Time to live exceeded\n",
      "\n",
      "--- 192.168.56.22 ping statistics ---\n",
      "2 packets transmitted, 0 received, +2 errors, 100% packet loss, time 1002ms\n",
      "\n",
      "PING 192.168.56.23 (192.168.56.23) 56(84) bytes of data.\n",
      "From 100.64.80.26 icmp_seq=1 Time to live exceeded\n",
      "From 100.64.80.26 icmp_seq=2 Time to live exceeded\n",
      "\n",
      "--- 192.168.56.23 ping statistics ---\n",
      "2 packets transmitted, 0 received, +2 errors, 100% packet loss, time 1001ms\n",
      "\n",
      "PING 192.168.56.24 (192.168.56.24) 56(84) bytes of data.\n",
      "From 100.64.80.26 icmp_seq=1 Time to live exceeded\n",
      "From 100.64.80.26 icmp_seq=2 Time to live exceeded\n",
      "\n",
      "--- 192.168.56.24 ping statistics ---\n",
      "2 packets transmitted, 0 received, +2 errors, 100% packet loss, time 1002ms\n",
      "\n",
      "PING 192.168.56.25 (192.168.56.25) 56(84) bytes of data.\n",
      "From 100.64.80.26 icmp_seq=1 Time to live exceeded\n",
      "From 100.64.80.26 icmp_seq=2 Time to live exceeded\n",
      "\n",
      "--- 192.168.56.25 ping statistics ---\n",
      "2 packets transmitted, 0 received, +2 errors, 100% packet loss, time 1002ms\n",
      "\n",
      "PING 192.168.56.26 (192.168.56.26) 56(84) bytes of data.\n",
      "From 100.64.80.26 icmp_seq=1 Time to live exceeded\n",
      "From 100.64.80.26 icmp_seq=2 Time to live exceeded\n",
      "\n",
      "--- 192.168.56.26 ping statistics ---\n",
      "2 packets transmitted, 0 received, +2 errors, 100% packet loss, time 1002ms\n",
      "\n",
      "PING 192.168.56.27 (192.168.56.27) 56(84) bytes of data.\n",
      "From 100.64.80.26 icmp_seq=1 Time to live exceeded\n",
      "From 100.64.80.26 icmp_seq=2 Time to live exceeded\n",
      "\n",
      "--- 192.168.56.27 ping statistics ---\n",
      "2 packets transmitted, 0 received, +2 errors, 100% packet loss, time 1001ms\n",
      "\n",
      "PING 192.168.56.28 (192.168.56.28) 56(84) bytes of data.\n",
      "From 100.64.80.26 icmp_seq=1 Time to live exceeded\n",
      "From 100.64.80.26 icmp_seq=2 Time to live exceeded\n",
      "\n",
      "--- 192.168.56.28 ping statistics ---\n",
      "2 packets transmitted, 0 received, +2 errors, 100% packet loss, time 1001ms\n",
      "\n",
      "PING 192.168.56.29 (192.168.56.29) 56(84) bytes of data.\n",
      "From 100.64.80.26 icmp_seq=1 Time to live exceeded\n",
      "From 100.64.80.26 icmp_seq=2 Time to live exceeded\n",
      "\n",
      "--- 192.168.56.29 ping statistics ---\n",
      "2 packets transmitted, 0 received, +2 errors, 100% packet loss, time 1002ms\n",
      "\n",
      "PING 192.168.56.30 (192.168.56.30) 56(84) bytes of data.\n",
      "From 100.64.80.26 icmp_seq=1 Time to live exceeded\n",
      "From 100.64.80.26 icmp_seq=2 Time to live exceeded\n",
      "\n",
      "--- 192.168.56.30 ping statistics ---\n",
      "2 packets transmitted, 0 received, +2 errors, 100% packet loss, time 1002ms\n",
      "\n"
     ]
    }
   ],
   "source": [
    "for i in range(1,(2**subnet_bits)-1):\n",
    "    os.system(f\"ping -c 2 {fixed_portion}{net_address+i}\")"
   ]
  },
  {
   "cell_type": "code",
   "execution_count": null,
   "id": "09d354ae",
   "metadata": {},
   "outputs": [],
   "source": []
  }
 ],
 "metadata": {
  "kernelspec": {
   "display_name": "Python 3 (ipykernel)",
   "language": "python",
   "name": "python3"
  },
  "language_info": {
   "codemirror_mode": {
    "name": "ipython",
    "version": 3
   },
   "file_extension": ".py",
   "mimetype": "text/x-python",
   "name": "python",
   "nbconvert_exporter": "python",
   "pygments_lexer": "ipython3",
   "version": "3.10.12"
  }
 },
 "nbformat": 4,
 "nbformat_minor": 5
}
