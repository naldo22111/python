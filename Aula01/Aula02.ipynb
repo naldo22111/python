{
 "cells": [
  {
   "cell_type": "code",
   "execution_count": null,
   "metadata": {},
   "outputs": [],
   "source": [
    "!pip3 install napalm"
   ]
  },
  {
   "cell_type": "code",
   "execution_count": 23,
   "metadata": {},
   "outputs": [],
   "source": [
    "from napalm import get_network_driver\n",
    "driver = get_network_driver('ios')\n",
    "devices = ['172.29.119.17']\n",
    "username = 'netadmin'\n",
    "passwd = 'netadmin123'"
   ]
  },
  {
   "cell_type": "code",
   "execution_count": null,
   "metadata": {},
   "outputs": [],
   "source": [
    "devices = ['172.29.119.7']\n",
    "username = 'netadmin'\n",
    "passwd = 'netadmin123'\n",
    "\n",
    "for sw in devices:\n",
    "    device = driver(sw,username,passwd,)\n",
    "    device.open()\n",
    "    dados = device.cli(['show running'])\n",
    "    for command, output in dados.items():\n",
    "         print(command)\n",
    "         print (output)\n",
    "    device.close()"
   ]
  },
  {
   "cell_type": "code",
   "execution_count": 47,
   "metadata": {},
   "outputs": [],
   "source": [
    "device = driver('172.29.124.8',username,passwd,)\n",
    "device.open()"
   ]
  },
  {
   "cell_type": "code",
   "execution_count": 42,
   "metadata": {},
   "outputs": [],
   "source": [
    "device.load_merge_candidate(config='interface loop 10\\ndescription bla')"
   ]
  },
  {
   "cell_type": "code",
   "execution_count": 44,
   "metadata": {},
   "outputs": [
    {
     "name": "stdout",
     "output_type": "stream",
     "text": [
      "+interface loop 10\n",
      "+description bla\n"
     ]
    }
   ],
   "source": [
    "print(device.compare_config())"
   ]
  },
  {
   "cell_type": "code",
   "execution_count": 45,
   "metadata": {},
   "outputs": [],
   "source": [
    "device.discard_config()"
   ]
  },
  {
   "cell_type": "code",
   "execution_count": 46,
   "metadata": {},
   "outputs": [],
   "source": [
    "device.close()"
   ]
  },
  {
   "cell_type": "code",
   "execution_count": 56,
   "metadata": {},
   "outputs": [
    {
     "name": "stdout",
     "output_type": "stream",
     "text": [
      "vios_l2 Software (vios_l2-ADVENTERPRISEK9-M), Version 15.2(CML_NIGHTLY_20190423)FLO_DSGS7, EARLY DEPLOYMENT DEVELOPMENT BUILD, synced to  V152_6_0_81_E\n",
      "SW1\n"
     ]
    }
   ],
   "source": [
    "dados = device.get_facts()\n",
    "# print(dados)\n",
    "print(f'{dados['os_version']}\\n{dados['hostname']}')"
   ]
  },
  {
   "cell_type": "code",
   "execution_count": null,
   "metadata": {},
   "outputs": [],
   "source": []
  }
 ],
 "metadata": {
  "kernelspec": {
   "display_name": "Python 3 (ipykernel)",
   "language": "python",
   "name": "python3"
  },
  "language_info": {
   "codemirror_mode": {
    "name": "ipython",
    "version": 3
   },
   "file_extension": ".py",
   "mimetype": "text/x-python",
   "name": "python",
   "nbconvert_exporter": "python",
   "pygments_lexer": "ipython3",
   "version": "3.12.3"
  }
 },
 "nbformat": 4,
 "nbformat_minor": 2
}
