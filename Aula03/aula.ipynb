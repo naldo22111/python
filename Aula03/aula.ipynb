{
 "cells": [
  {
   "cell_type": "markdown",
   "metadata": {},
   "source": [
    "#### Aula 03 - Functions"
   ]
  },
  {
   "cell_type": "markdown",
   "metadata": {},
   "source": [
    "##### Chamando Funções de um arquivo .py externo"
   ]
  },
  {
   "cell_type": "code",
   "execution_count": null,
   "metadata": {},
   "outputs": [],
   "source": [
    "from module import give_message\n",
    "nome = input('Informe um nome:')\n",
    "give_message(nome)"
   ]
  },
  {
   "cell_type": "code",
   "execution_count": null,
   "metadata": {},
   "outputs": [],
   "source": [
    "import module\n",
    "\n",
    "print(module.give_message('Paul'))\n",
    "\n",
    "print(module.somar(3,5))\n"
   ]
  },
  {
   "cell_type": "markdown",
   "metadata": {},
   "source": [
    "##### Chamando uma função no código atual"
   ]
  },
  {
   "cell_type": "code",
   "execution_count": null,
   "metadata": {},
   "outputs": [],
   "source": [
    "def somar(a,b):\n",
    "    if a > 10:\n",
    "        print ('o primeiro número é maior que 10')\n",
    "    return a + b\n"
   ]
  },
  {
   "cell_type": "code",
   "execution_count": null,
   "metadata": {},
   "outputs": [],
   "source": [
    "c = somar(11,17)\n",
    "\n",
    "print (c)"
   ]
  },
  {
   "cell_type": "markdown",
   "metadata": {},
   "source": [
    "### Inicio NAPALM"
   ]
  },
  {
   "cell_type": "markdown",
   "metadata": {},
   "source": [
    "#### Network_Driver IOS"
   ]
  },
  {
   "cell_type": "code",
   "execution_count": 78,
   "metadata": {},
   "outputs": [],
   "source": [
    "from napalm import get_network_driver\n",
    "driver = get_network_driver(\"ios\")\n",
    "device = driver(\n",
    "        hostname=\"172.29.124.8\",\n",
    "        username=\"netadmin\",\n",
    "        password=\"netadmin123\",\n",
    "    )"
   ]
  },
  {
   "cell_type": "code",
   "execution_count": 79,
   "metadata": {},
   "outputs": [],
   "source": [
    "device.open()"
   ]
  },
  {
   "cell_type": "code",
   "execution_count": null,
   "metadata": {},
   "outputs": [],
   "source": [
    "dados = device.cli(['show ip int br', 'show version'])\n",
    "\n",
    "for comando, output in dados.items():\n",
    "    print('\\n\\n')\n",
    "    print(comando)\n",
    "    print('\\n\\n')\n",
    "    print(output)"
   ]
  },
  {
   "cell_type": "code",
   "execution_count": 38,
   "metadata": {},
   "outputs": [],
   "source": [
    "device.close()"
   ]
  },
  {
   "cell_type": "code",
   "execution_count": 47,
   "metadata": {},
   "outputs": [
    {
     "name": "stdout",
     "output_type": "stream",
     "text": [
      "\n",
      "Diff:\n",
      "--- \n",
      "+++ \n",
      "@@ -1,6 +1,9 @@\n",
      " !\n",
      " hostname XR1\n",
      " domain name test.com\n",
      "+interface Loopback10\n",
      "+ description Interface Aula03\n",
      "+!\n",
      " interface MgmtEth0/0/CPU0/0\n",
      "  shutdown\n",
      " !\n",
      "Committing ...\n"
     ]
    }
   ],
   "source": [
    "device.load_merge_candidate(config='interface Loopback 10\\ndescription Interface Aula03')\n",
    "print(\"\\nDiff:\")\n",
    "print(device.compare_config())\n",
    "try:\n",
    "    choice = raw_input(\"\\nWould you like to commit these changes? [yN]: \")\n",
    "except NameError:\n",
    "    choice = input(\"\\nWould you like to commit these changes? [yN]: \")\n",
    "if choice == \"y\":\n",
    "    print(\"Committing ...\")\n",
    "    device.commit_config()\n",
    "else:\n",
    "    print(\"Discarding ...\")\n",
    "    device.discard_config()"
   ]
  },
  {
   "cell_type": "code",
   "execution_count": 43,
   "metadata": {},
   "outputs": [],
   "source": [
    "device.rollback()"
   ]
  },
  {
   "cell_type": "markdown",
   "metadata": {},
   "source": [
    "##### Network_Driver IOSXR"
   ]
  },
  {
   "cell_type": "code",
   "execution_count": 85,
   "metadata": {},
   "outputs": [],
   "source": [
    "from napalm import get_network_driver\n",
    "driver = get_network_driver(\"iosxr\")\n",
    "device = driver(\n",
    "        hostname=\"172.29.119.17\",\n",
    "        username=\"netadmin\",\n",
    "        password=\"netadmin123\",\n",
    "    )\n",
    "device.open()"
   ]
  },
  {
   "cell_type": "code",
   "execution_count": 45,
   "metadata": {},
   "outputs": [
    {
     "name": "stdout",
     "output_type": "stream",
     "text": [
      "\n",
      "\n",
      "\n",
      "show ipv4 int br\n",
      "\n",
      "\n",
      "\n",
      "Interface                      IP-Address      Status          Protocol Vrf-Name\n",
      "MgmtEth0/0/CPU0/0              unassigned      Shutdown        Down     default \n",
      "GigabitEthernet0/0/0/0         172.29.119.17   Up              Up       default \n",
      "GigabitEthernet0/0/0/1         unassigned      Shutdown        Down     default \n",
      "GigabitEthernet0/0/0/2         unassigned      Shutdown        Down     default \n",
      "GigabitEthernet0/0/0/3         unassigned      Shutdown        Down     default \n",
      "GigabitEthernet0/0/0/4         unassigned      Shutdown        Down     default \n",
      "GigabitEthernet0/0/0/5         unassigned      Shutdown        Down     default \n",
      "GigabitEthernet0/0/0/6         unassigned      Shutdown        Down     default \n",
      "GigabitEthernet0/0/0/7         unassigned      Shutdown        Down     default\n",
      "\n",
      "\n",
      "\n",
      "show platform\n",
      "\n",
      "\n",
      "\n",
      "Node\t\tType\t\tPLIM\t\tState\t\tConfig State\n",
      "-----------------------------------------------------------------------------\n",
      "0/0/CPU0        RP(Active)      N/A             IOS XR RUN      PWR,NSHUT,MON\n"
     ]
    }
   ],
   "source": [
    "dados = device.cli(['show ipv4 int br', 'show platform'])\n",
    "\n",
    "for comando, output in dados.items():\n",
    "    print('\\n\\n')\n",
    "    print(comando)\n",
    "    print('\\n\\n')\n",
    "    print(output)"
   ]
  },
  {
   "cell_type": "code",
   "execution_count": 74,
   "metadata": {},
   "outputs": [],
   "source": [
    "device.close()"
   ]
  },
  {
   "cell_type": "markdown",
   "metadata": {},
   "source": [
    "##### Get_Facts"
   ]
  },
  {
   "cell_type": "code",
   "execution_count": 64,
   "metadata": {},
   "outputs": [
    {
     "name": "stdout",
     "output_type": "stream",
     "text": [
      "vendor\n",
      "Cisco\n",
      "os_version\n",
      "\n",
      "hostname\n",
      "XR1\n",
      "uptime\n",
      "3571.0\n",
      "serial_number\n",
      "\n",
      "fqdn\n",
      "XR1\n",
      "model\n",
      "\n",
      "interface_list\n",
      "['GigabitEthernet0/0/0/0', 'GigabitEthernet0/0/0/1', 'GigabitEthernet0/0/0/2', 'GigabitEthernet0/0/0/3', 'GigabitEthernet0/0/0/4', 'GigabitEthernet0/0/0/5', 'GigabitEthernet0/0/0/6', 'GigabitEthernet0/0/0/7', 'Loopback10', 'MgmtEth0/0/CPU0/0', 'Null0']\n"
     ]
    }
   ],
   "source": [
    "saida = device.get_facts()\n",
    "for fact, output in saida.items():\n",
    "    print(fact)\n",
    "    print(output)"
   ]
  },
  {
   "cell_type": "code",
   "execution_count": 61,
   "metadata": {},
   "outputs": [
    {
     "name": "stdout",
     "output_type": "stream",
     "text": [
      "MgmtEth0/0/CPU0/0\n"
     ]
    }
   ],
   "source": [
    "print(saida['interface_list'][-2])"
   ]
  },
  {
   "cell_type": "markdown",
   "metadata": {},
   "source": [
    "##### Get_Environment"
   ]
  },
  {
   "cell_type": "code",
   "execution_count": 68,
   "metadata": {},
   "outputs": [
    {
     "name": "stdout",
     "output_type": "stream",
     "text": [
      "cpu\n",
      "{0: {'%usage': 2.0}}\n",
      "memory\n",
      "{'used_ram': 112032116, 'available_ram': 945887904}\n",
      "temperature\n",
      "{'invalid': {'is_alert': False, 'is_critical': False, 'temperature': -1.0}}\n",
      "power\n",
      "{'invalid': {'status': True, 'output': -1.0, 'capacity': -1.0}}\n",
      "fans\n",
      "{'invalid': {'status': True}}\n"
     ]
    }
   ],
   "source": [
    "saida = device.get_environment()\n",
    "for fact, output in saida.items():\n",
    "    print(fact)\n",
    "    print(output)"
   ]
  },
  {
   "cell_type": "code",
   "execution_count": 69,
   "metadata": {},
   "outputs": [],
   "source": [
    "device.close()"
   ]
  },
  {
   "cell_type": "markdown",
   "metadata": {},
   "source": [
    "#### Ping"
   ]
  },
  {
   "cell_type": "code",
   "execution_count": 88,
   "metadata": {},
   "outputs": [
    {
     "ename": "NotImplementedError",
     "evalue": "",
     "output_type": "error",
     "traceback": [
      "\u001b[1;31m---------------------------------------------------------------------------\u001b[0m",
      "\u001b[1;31mNotImplementedError\u001b[0m                       Traceback (most recent call last)",
      "Cell \u001b[1;32mIn[88], line 1\u001b[0m\n\u001b[1;32m----> 1\u001b[0m \u001b[43mdevice\u001b[49m\u001b[38;5;241;43m.\u001b[39;49m\u001b[43mping\u001b[49m\u001b[43m(\u001b[49m\u001b[43mdestination\u001b[49m\u001b[38;5;241;43m=\u001b[39;49m\u001b[38;5;124;43m'\u001b[39;49m\u001b[38;5;124;43m172.29.124.8\u001b[39;49m\u001b[38;5;124;43m'\u001b[39;49m\u001b[43m,\u001b[49m\u001b[43m \u001b[49m\u001b[43mcount\u001b[49m\u001b[38;5;241;43m=\u001b[39;49m\u001b[38;5;241;43m5\u001b[39;49m\u001b[43m)\u001b[49m\n",
      "File \u001b[1;32mc:\\Users\\naldo.pinheiro\\AppData\\Local\\Programs\\Python\\Python312\\Lib\\site-packages\\napalm\\base\\base.py:1384\u001b[0m, in \u001b[0;36mNetworkDriver.ping\u001b[1;34m(self, destination, source, ttl, timeout, size, count, vrf, source_interface)\u001b[0m\n\u001b[0;32m   1304\u001b[0m \u001b[38;5;28;01mdef\u001b[39;00m \u001b[38;5;21mping\u001b[39m(\n\u001b[0;32m   1305\u001b[0m     \u001b[38;5;28mself\u001b[39m,\n\u001b[0;32m   1306\u001b[0m     destination: \u001b[38;5;28mstr\u001b[39m,\n\u001b[1;32m   (...)\u001b[0m\n\u001b[0;32m   1313\u001b[0m     source_interface: \u001b[38;5;28mstr\u001b[39m \u001b[38;5;241m=\u001b[39m c\u001b[38;5;241m.\u001b[39mPING_SOURCE_INTERFACE,\n\u001b[0;32m   1314\u001b[0m ) \u001b[38;5;241m-\u001b[39m\u001b[38;5;241m>\u001b[39m models\u001b[38;5;241m.\u001b[39mPingResultDict:\n\u001b[0;32m   1315\u001b[0m \u001b[38;5;250m    \u001b[39m\u001b[38;5;124;03m\"\"\"\u001b[39;00m\n\u001b[0;32m   1316\u001b[0m \u001b[38;5;124;03m    Executes ping on the device and returns a dictionary with the result\u001b[39;00m\n\u001b[0;32m   1317\u001b[0m \n\u001b[1;32m   (...)\u001b[0m\n\u001b[0;32m   1382\u001b[0m \n\u001b[0;32m   1383\u001b[0m \u001b[38;5;124;03m    \"\"\"\u001b[39;00m\n\u001b[1;32m-> 1384\u001b[0m     \u001b[38;5;28;01mraise\u001b[39;00m \u001b[38;5;167;01mNotImplementedError\u001b[39;00m\n",
      "\u001b[1;31mNotImplementedError\u001b[0m: "
     ]
    }
   ],
   "source": [
    "device.ping(destination='172.29.124.8', count=5)"
   ]
  },
  {
   "cell_type": "code",
   "execution_count": 89,
   "metadata": {},
   "outputs": [],
   "source": [
    "device.close()"
   ]
  },
  {
   "cell_type": "code",
   "execution_count": null,
   "metadata": {},
   "outputs": [],
   "source": []
  }
 ],
 "metadata": {
  "kernelspec": {
   "display_name": "Python 3",
   "language": "python",
   "name": "python3"
  },
  "language_info": {
   "codemirror_mode": {
    "name": "ipython",
    "version": 3
   },
   "file_extension": ".py",
   "mimetype": "text/x-python",
   "name": "python",
   "nbconvert_exporter": "python",
   "pygments_lexer": "ipython3",
   "version": "3.12.3"
  }
 },
 "nbformat": 4,
 "nbformat_minor": 2
}
