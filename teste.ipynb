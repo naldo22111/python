{
 "cells": [
  {
   "cell_type": "code",
   "execution_count": null,
   "metadata": {},
   "outputs": [],
   "source": [
    "even = []\n",
    "for i in range (26):\n",
    "    if i !=0 and i % 2 == 0:\n",
    "       even.append(i)\n",
    "print (even)"
   ]
  },
  {
   "cell_type": "code",
   "execution_count": null,
   "metadata": {},
   "outputs": [],
   "source": [
    "odd = []\n",
    "for i in range (26):\n",
    "    if i % 2 != 0:\n",
    "       odd.append(i)\n",
    "print (odd)"
   ]
  },
  {
   "cell_type": "code",
   "execution_count": null,
   "metadata": {},
   "outputs": [],
   "source": [
    "fixed_odd = [5,15,25]\n",
    "fixed_even = [10,20]"
   ]
  },
  {
   "cell_type": "code",
   "execution_count": null,
   "metadata": {},
   "outputs": [],
   "source": [
    "for num in fixed_odd:\n",
    "    if num in odd:\n",
    "        odd.remove(num)\n",
    "print (odd)\n",
    "for num in fixed_even:\n",
    "    if num in even:\n",
    "        even.remove(num)\n",
    "print (even)"
   ]
  },
  {
   "cell_type": "code",
   "execution_count": null,
   "metadata": {},
   "outputs": [],
   "source": [
    "print (odd + fixed_odd)"
   ]
  },
  {
   "cell_type": "code",
   "execution_count": null,
   "metadata": {},
   "outputs": [],
   "source": []
  },
  {
   "cell_type": "code",
   "execution_count": null,
   "metadata": {},
   "outputs": [],
   "source": [
    "from numpy import random\n",
    "random_odd = random.choice(odd, size=(5))\n",
    "print(random_odd, fixed_odd)"
   ]
  },
  {
   "cell_type": "code",
   "execution_count": null,
   "metadata": {},
   "outputs": [],
   "source": [
    "random_even = random.choice(even, size=(4))\n",
    "print(random_even, fixed_even)"
   ]
  },
  {
   "cell_type": "code",
   "execution_count": null,
   "metadata": {},
   "outputs": [],
   "source": [
    "def is_match(data,voice):\n",
    "    v_pair = {{'3':'110'},{'7':'111'},{'8':'113'},{'9':'114'},{'10':'115'},{'11':'116'},{'12':'112'}}\n",
    "    for dict in v_pair:\n",
    "        if dict.key == data and dict.value == voice:\n",
    "            break\n",
    "        if dict.key == data:\n",
    "            print('Vlan de Voz/Dados fora do Padrão')\n",
    "            return 'Vlan de Voz/Dados fora do Padrão'\n",
    "\n",
    "erro_novo = is_match('3','111')\n",
    "print(erro_novo)"
   ]
  },
  {
   "cell_type": "code",
   "execution_count": null,
   "metadata": {},
   "outputs": [],
   "source": [
    "def is_match(data,voice):\n",
    "    v_pair = [{'3':'110'},{'7':'111'},{'8':'113'},{'9':'114'},{'10':'115'},{'11':'116'},{'12':'112'}]\n",
    "    for dict in v_pair:\n",
    "        print(dict[data])"
   ]
  },
  {
   "cell_type": "code",
   "execution_count": null,
   "metadata": {},
   "outputs": [],
   "source": [
    "is_match('3','111')"
   ]
  },
  {
   "cell_type": "code",
   "execution_count": 23,
   "metadata": {},
   "outputs": [
    {
     "name": "stdout",
     "output_type": "stream",
     "text": [
      "None\n"
     ]
    }
   ],
   "source": [
    "def is_match(data,voice):\n",
    "    v_pair = [{'3':'110'},{'7':'111'},{'8':'113'},{'9':'114'},{'10':'115'},{'11':'116'},{'12':'112'}]\n",
    "    for dict in v_pair:\n",
    "        if data in dict and dict[data] == voice:\n",
    "            break\n",
    "    else:\n",
    "        return 'Vlan de Voz/Dados fora do Padrão'\n",
    "\n",
    "erro_novo = is_match('8','113')\n",
    "print(erro_novo)\n"
   ]
  },
  {
   "cell_type": "code",
   "execution_count": 16,
   "metadata": {},
   "outputs": [
    {
     "ename": "TypeError",
     "evalue": "unbound method dict.keys() needs an argument",
     "output_type": "error",
     "traceback": [
      "\u001b[0;31m---------------------------------------------------------------------------\u001b[0m",
      "\u001b[0;31mTypeError\u001b[0m                                 Traceback (most recent call last)",
      "Cell \u001b[0;32mIn[16], line 1\u001b[0m\n\u001b[0;32m----> 1\u001b[0m \u001b[38;5;28mprint\u001b[39m(\u001b[38;5;28;43mdict\u001b[39;49m\u001b[38;5;241;43m.\u001b[39;49m\u001b[43mkeys\u001b[49m\u001b[43m(\u001b[49m\u001b[43m)\u001b[49m)\n",
      "\u001b[0;31mTypeError\u001b[0m: unbound method dict.keys() needs an argument"
     ]
    }
   ],
   "source": [
    "print(dict.keys())"
   ]
  },
  {
   "cell_type": "code",
   "execution_count": null,
   "metadata": {},
   "outputs": [],
   "source": []
  }
 ],
 "metadata": {
  "kernelspec": {
   "display_name": "Python 3 (ipykernel)",
   "language": "python",
   "name": "python3"
  },
  "language_info": {
   "codemirror_mode": {
    "name": "ipython",
    "version": 3
   },
   "file_extension": ".py",
   "mimetype": "text/x-python",
   "name": "python",
   "nbconvert_exporter": "python",
   "pygments_lexer": "ipython3",
   "version": "3.10.12"
  }
 },
 "nbformat": 4,
 "nbformat_minor": 2
}
